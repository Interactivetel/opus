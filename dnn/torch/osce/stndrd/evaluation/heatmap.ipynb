{
 "cells": [
  {
   "cell_type": "code",
   "execution_count": 1,
   "metadata": {},
   "outputs": [],
   "source": [
    "import numpy as np\n",
    "import matplotlib.pyplot as plt"
   ]
  },
  {
   "cell_type": "code",
   "execution_count": 2,
   "metadata": {},
   "outputs": [
    {
     "name": "stderr",
     "output_type": "stream",
     "text": [
      "/tmp/ipykernel_2446190/1441004044.py:22: UserWarning: FixedFormatter should only be used together with FixedLocator\n",
      "  ax.set_yticklabels(['', 'MOS', 'NOMAD', 'MOC', 'WARP-Q', 'PESQ'])\n"
     ]
    },
    {
     "data": {
      "text/plain": [
       "[Text(0, -1.0, ''),\n",
       " Text(0, 0.0, 'MOS'),\n",
       " Text(0, 1.0, 'NOMAD'),\n",
       " Text(0, 2.0, 'MOC'),\n",
       " Text(0, 3.0, 'WARP-Q'),\n",
       " Text(0, 4.0, 'PESQ'),\n",
       " Text(0, 5.0, '')]"
      ]
     },
     "execution_count": 2,
     "metadata": {},
     "output_type": "execute_result"
    },
    {
     "data": {
      "image/png": "[encoded data removed]",
      "text/plain": [
       "<Figure size 432x288 with 1 Axes>"
      ]
     },
     "metadata": {
      "needs_background": "light"
     },
     "output_type": "display_data"
    }
   ],
   "source": [
    "mos = np.array(\n",
    "    [1, 2, 3, 4, 5, 6, 7, 8, 9]\n",
    ")\n",
    "nomad = np.array(\n",
    "    [1, 2, 4, 3, 5, 6, 7, 8, 9]\n",
    ")\n",
    "moc = np.array(\n",
    "    [1, 2, 3, 4, 5, 8, 6, 7, 9]\n",
    ")\n",
    "warpq = np.array(\n",
    "    [1, 2, 3, 4, 5, 8, 6, 7, 9]\n",
    ")\n",
    "pesq = np.array(\n",
    "    [1, 2, 3, 4, 8, 5, 6, 9, 7]\n",
    ")\n",
    "\n",
    "M = np.vstack((mos, nomad, moc, warpq, pesq))\n",
    "\n"
   ]
  },
  {
   "cell_type": "code",
   "execution_count": 23,
   "metadata": {},
   "outputs": [
    {
     "name": "stderr",
     "output_type": "stream",
     "text": [
      "/tmp/ipykernel_2446190/2152448720.py:13: UserWarning: FixedFormatter should only be used together with FixedLocator\n",
      "  ax.set_yticklabels(['', 'MOS', 'NOMAD', 'MOC', 'WARP-Q', 'PESQ'])\n"
     ]
    },
    {
     "data": {
      "image/png": "[encoded data removed]",
      "text/plain": [
       "<Figure size 1296x540 with 1 Axes>"
      ]
     },
     "metadata": {
      "needs_background": "light"
     },
     "output_type": "display_data"
    }
   ],
   "source": [
    "plt.rcParams.update({\n",
    "    \"text.usetex\": True,\n",
    "    \"font.family\": \"Helvetica\",\n",
    "    \"font.size\": 18\n",
    "})\n",
    "\n",
    "\n",
    "fig, ax = plt.subplots()\n",
    "fig.tight_layout(pad=1)\n",
    "fig.set_size_inches(18, 7.5)\n",
    "\n",
    "ax.imshow(M)\n",
    "ax.set_yticklabels(['', 'MOS', 'NOMAD', 'MOC', 'WARP-Q', 'PESQ'])\n",
    "ax.set_xticklabels([])\n",
    "ax.tick_params(bottom=False)\n",
    "\n",
    "\n",
    "fig.savefig('ordering.png', bbox_inches='tight')"
   ]
  },
  {
   "cell_type": "code",
   "execution_count": 6,
   "metadata": {},
   "outputs": [
    {
     "name": "stdout",
     "output_type": "stream",
     "text": [
      "Help on method tick_params in module matplotlib.axes._base:\n",
      "\n",
      "tick_params(axis='both', **kwargs) method of matplotlib.axes._subplots.AxesSubplot instance\n",
      "    Change the appearance of ticks, tick labels, and gridlines.\n",
      "    \n",
      "    Tick properties that are not explicitly set using the keyword\n",
      "    arguments remain unchanged unless *reset* is True.\n",
      "    \n",
      "    Parameters\n",
      "    ----------\n",
      "    axis : {'x', 'y', 'both'}, default: 'both'\n",
      "        The axis to which the parameters are applied.\n",
      "    which : {'major', 'minor', 'both'}, default: 'major'\n",
      "        The group of ticks to which the parameters are applied.\n",
      "    reset : bool, default: False\n",
      "        Whether to reset the ticks to defaults before updating them.\n",
      "    \n",
      "    Other Parameters\n",
      "    ----------------\n",
      "    direction : {'in', 'out', 'inout'}\n",
      "        Puts ticks inside the axes, outside the axes, or both.\n",
      "    length : float\n",
      "        Tick length in points.\n",
      "    width : float\n",
      "        Tick width in points.\n",
      "    color : color\n",
      "        Tick color.\n",
      "    pad : float\n",
      "        Distance in points between tick and label.\n",
      "    labelsize : float or str\n",
      "        Tick label font size in points or as a string (e.g., 'large').\n",
      "    labelcolor : color\n",
      "        Tick label color.\n",
      "    colors : color\n",
      "        Tick color and label color.\n",
      "    zorder : float\n",
      "        Tick and label zorder.\n",
      "    bottom, top, left, right : bool\n",
      "        Whether to draw the respective ticks.\n",
      "    labelbottom, labeltop, labelleft, labelright : bool\n",
      "        Whether to draw the respective tick labels.\n",
      "    labelrotation : float\n",
      "        Tick label rotation\n",
      "    grid_color : color\n",
      "        Gridline color.\n",
      "    grid_alpha : float\n",
      "        Transparency of gridlines: 0 (transparent) to 1 (opaque).\n",
      "    grid_linewidth : float\n",
      "        Width of gridlines in points.\n",
      "    grid_linestyle : str\n",
      "        Any valid `.Line2D` line style spec.\n",
      "    \n",
      "    Examples\n",
      "    --------\n",
      "    ::\n",
      "    \n",
      "        ax.tick_params(direction='out', length=6, width=2, colors='r',\n",
      "                       grid_color='r', grid_alpha=0.5)\n",
      "    \n",
      "    This will make all major ticks be red, pointing out of the box,\n",
      "    and with dimensions 6 points by 2 points.  Tick labels will\n",
      "    also be red.  Gridlines will be red and translucent.\n",
      "\n"
     ]
    }
   ],
   "source": [
    "help(ax.tick_params)"
   ]
  },
  {
   "cell_type": "code",
   "execution_count": null,
   "metadata": {},
   "outputs": [],
   "source": []
  }
 ],
 "metadata": {
  "kernelspec": {
   "display_name": "torch",
   "language": "python",
   "name": "python3"
  },
  "language_info": {
   "codemirror_mode": {
    "name": "ipython",
    "version": 3
   },
   "file_extension": ".py",
   "mimetype": "text/x-python",
   "name": "python",
   "nbconvert_exporter": "python",
   "pygments_lexer": "ipython3",
   "version": "3.9.12"
  }
 },
 "nbformat": 4,
 "nbformat_minor": 2
}
