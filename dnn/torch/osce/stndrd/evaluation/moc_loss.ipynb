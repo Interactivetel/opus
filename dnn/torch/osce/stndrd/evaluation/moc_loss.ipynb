{
 "cells": [
  {
   "cell_type": "code",
   "execution_count": 27,
   "metadata": {},
   "outputs": [],
   "source": [
    "import torch\n",
    "from torch import nn\n",
    "\n",
    "import numpy as np\n",
    "import scipy"
   ]
  },
  {
   "cell_type": "code",
   "execution_count": 28,
   "metadata": {},
   "outputs": [],
   "source": [
    "def frequency_mask(num_bands, up_factor, down_factor):\n",
    "    \n",
    "    up_mask = np.zeros((num_bands, num_bands))\n",
    "    down_mask = np.zeros((num_bands, num_bands))\n",
    "    \n",
    "    for i in range(num_bands):\n",
    "        up_mask[i, : i + 1] = up_factor ** np.arange(i, -1, -1)\n",
    "        down_mask[i, i :] = down_factor ** np.arange(num_bands - i)\n",
    "    \n",
    "    return down_mask @ up_mask\n",
    "\n",
    "\n",
    "def rect_fb(band_limits, num_bins=None):\n",
    "    num_bands = len(band_limits) - 1\n",
    "    if num_bins is None:\n",
    "        num_bins = band_limits[-1]\n",
    "    \n",
    "    fb = np.zeros((num_bands, num_bins))\n",
    "    for i in range(num_bands):\n",
    "        fb[i, band_limits[i]:band_limits[i+1]] = 1\n",
    "        \n",
    "    return fb"
   ]
  },
  {
   "cell_type": "code",
   "execution_count": 50,
   "metadata": {},
   "outputs": [],
   "source": [
    "class MOCLoss(nn.Module):\n",
    "    def __init__(self):\n",
    "        super().__init__()\n",
    "        \n",
    "        self.band_limits = [0, 2, 4, 6, 7, 9, 11, 13, 15, 18, 22, 26, 31, 36, 43, 51, 60, 75]\n",
    "        self.num_bands = len(self.band_limits) - 1\n",
    "        self.window_size = 160\n",
    "        self.nfft = 160\n",
    "        self.hop_size = 80\n",
    "        self.mask_gain = 0.1\n",
    "        self.tmask_gain = 0.5\n",
    "        self.fb = nn.Parameter(\n",
    "            torch.from_numpy(rect_fb(self.band_limits, num_bins=81)),\n",
    "            requires_grad=False\n",
    "        )\n",
    "        self.f_mask = nn.Parameter(\n",
    "            torch.from_numpy(frequency_mask(self.num_bands, 0.1, 0.03)),\n",
    "            requires_grad=False\n",
    "        )\n",
    "        self.window = nn.Parameter(\n",
    "            torch.from_numpy(scipy.signal.get_window('hamming', self.window_size)),\n",
    "            requires_grad=False\n",
    "        )\n",
    "    \n",
    "    def forward(self, x_ref, x_deg):\n",
    "        X_ref = torch.stft(x_ref * 2**15, self.nfft, self.hop_size, window=self.window, center=False, onesided=True, return_complex=True)\n",
    "        X_deg = torch.stft(x_deg * 2**15, self.nfft, self.hop_size, window=self.window, center=False, onesided=True, return_complex=True)\n",
    "        \n",
    "        psd_ref = torch.abs(X_ref.permute(0, 2, 1)) ** 2 + 100000\n",
    "        psd_deg = torch.abs(X_deg.permute(0, 2, 1)) ** 2 + 100000\n",
    "        \n",
    "        # frequency masking\n",
    "        be_ref = (psd_ref @ self.fb.T) / self.fb.sum(dim=1).unsqueeze(0)\n",
    "        mask = be_ref @ self.f_mask.T\n",
    "        \n",
    "        # temporal masking\n",
    "        for i in range(1, mask.size(1)):\n",
    "            mask[:, i, :] = mask[:, i, :] + self.tmask_gain * mask[:, i, :]\n",
    "        \n",
    "        # apply mask\n",
    "        lifted_mask = mask @ self.fb\n",
    "        masked_psd_ref = psd_ref + self.mask_gain * lifted_mask\n",
    "        masked_psd_deg = psd_deg + self.mask_gain * lifted_mask\n",
    "        \n",
    "        # 2-frame average\n",
    "        masked_psd_ref = masked_psd_ref[:, 1:] + masked_psd_ref[:, :-1] \n",
    "        masked_psd_deg = masked_psd_deg[:, 1:] + masked_psd_deg[:, :-1]\n",
    "        \n",
    "        # calculate distortion\n",
    "        re = masked_psd_ref / masked_psd_deg\n",
    "        im = re - torch.log(re) - 1\n",
    "        Eb = (im @ self.fb.T) / self.fb.sum(dim=1)\n",
    "        Ef = torch.mean(Eb ** 2, dim = 2)\n",
    "        err = torch.mean(Ef ** 4, dim=1) ** (1/16)\n",
    "        loss = torch.mean(err)\n",
    "        \n",
    "        return loss\n",
    "        \n",
    "        \n",
    "        "
   ]
  },
  {
   "cell_type": "code",
   "execution_count": 51,
   "metadata": {},
   "outputs": [],
   "source": [
    "x = torch.randn(32, 16000)\n",
    "y = torch.randn(32, 16000)"
   ]
  },
  {
   "cell_type": "code",
   "execution_count": 52,
   "metadata": {},
   "outputs": [],
   "source": [
    "loss = MOCLoss()"
   ]
  },
  {
   "cell_type": "code",
   "execution_count": 54,
   "metadata": {},
   "outputs": [
    {
     "data": {
      "text/plain": [
       "tensor(0., dtype=torch.float64)"
      ]
     },
     "execution_count": 54,
     "metadata": {},
     "output_type": "execute_result"
    }
   ],
   "source": [
    "loss(x, x)"
   ]
  },
  {
   "cell_type": "code",
   "execution_count": null,
   "metadata": {},
   "outputs": [],
   "source": []
  }
 ],
 "metadata": {
  "kernelspec": {
   "display_name": "torch",
   "language": "python",
   "name": "python3"
  },
  "language_info": {
   "codemirror_mode": {
    "name": "ipython",
    "version": 3
   },
   "file_extension": ".py",
   "mimetype": "text/x-python",
   "name": "python",
   "nbconvert_exporter": "python",
   "pygments_lexer": "ipython3",
   "version": "3.9.12"
  }
 },
 "nbformat": 4,
 "nbformat_minor": 2
}
